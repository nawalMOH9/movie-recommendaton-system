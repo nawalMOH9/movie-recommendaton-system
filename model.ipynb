{
 "cells": [
  {
   "cell_type": "code",
   "execution_count": 3,
   "metadata": {},
   "outputs": [],
   "source": [
    "import pandas as pd\n",
    "import numpy as np\n",
    "import matplotlib.pyplot as plt\n",
    "import seaborn as sns\n",
    "from sklearn.metrics.pairwise import cosine_similarity\n",
    "from sklearn.feature_extraction.text import CountVectorizer\n",
    "from sklearn.metrics import accuracy_score"
   ]
  },
  {
   "cell_type": "code",
   "execution_count": 2,
   "metadata": {},
   "outputs": [],
   "source": [
    "d2020=pd.read_csv(r\"data\\Data\\2020\\imdb_movies_2020.csv\")\n",
    "d2021=pd.read_csv(r\"data\\Data\\2021\\imdb_movies_2021.csv\")\n",
    "d2022=pd.read_csv(r\"data\\Data\\2022\\imdb_movies_2022.csv\")\n",
    "d2023=pd.read_csv(r\"data\\Data\\2023\\imdb_movies_2023.csv\")\n",
    "d2024=pd.read_csv(r\"data\\Data\\2024\\imdb_movies_2024.csv\")\n",
    "\n",
    "data=pd.concat([d2020,d2021,d2022,d2023,d2024])\n"
   ]
  },
  {
   "cell_type": "code",
   "execution_count": 7,
   "metadata": {},
   "outputs": [
    {
     "name": "stdout",
     "output_type": "stream",
     "text": [
      "2850\n"
     ]
    },
    {
     "data": {
      "text/html": [
       "<div>\n",
       "<style scoped>\n",
       "    .dataframe tbody tr th:only-of-type {\n",
       "        vertical-align: middle;\n",
       "    }\n",
       "\n",
       "    .dataframe tbody tr th {\n",
       "        vertical-align: top;\n",
       "    }\n",
       "\n",
       "    .dataframe thead th {\n",
       "        text-align: right;\n",
       "    }\n",
       "</style>\n",
       "<table border=\"1\" class=\"dataframe\">\n",
       "  <thead>\n",
       "    <tr style=\"text-align: right;\">\n",
       "      <th></th>\n",
       "      <th>index</th>\n",
       "      <th>Title</th>\n",
       "      <th>Movie Link</th>\n",
       "      <th>Year</th>\n",
       "      <th>Duration</th>\n",
       "      <th>MPA</th>\n",
       "      <th>Rating</th>\n",
       "      <th>Votes</th>\n",
       "    </tr>\n",
       "  </thead>\n",
       "  <tbody>\n",
       "    <tr>\n",
       "      <th>0</th>\n",
       "      <td>228</td>\n",
       "      <td>229. Waltair Veerayya</td>\n",
       "      <td>https://www.imdb.com/title/tt15281402/?ref_=sr...</td>\n",
       "      <td>2023</td>\n",
       "      <td>2h 35m</td>\n",
       "      <td>NaN</td>\n",
       "      <td>6.2</td>\n",
       "      <td>7.9K</td>\n",
       "    </tr>\n",
       "    <tr>\n",
       "      <th>1</th>\n",
       "      <td>520</td>\n",
       "      <td>521. Sharper</td>\n",
       "      <td>https://www.imdb.com/title/tt12573454/?ref_=sr...</td>\n",
       "      <td>2023</td>\n",
       "      <td>1h 56m</td>\n",
       "      <td>R</td>\n",
       "      <td>6.7</td>\n",
       "      <td>34K</td>\n",
       "    </tr>\n",
       "    <tr>\n",
       "      <th>2</th>\n",
       "      <td>536</td>\n",
       "      <td>537. Lamborghini: The Man Behind the Legend</td>\n",
       "      <td>https://www.imdb.com/title/tt5533370/?ref_=sr_...</td>\n",
       "      <td>2022</td>\n",
       "      <td>1h 37m</td>\n",
       "      <td>R</td>\n",
       "      <td>5.5</td>\n",
       "      <td>15K</td>\n",
       "    </tr>\n",
       "    <tr>\n",
       "      <th>3</th>\n",
       "      <td>460</td>\n",
       "      <td>461. Year 10</td>\n",
       "      <td>https://www.imdb.com/title/tt21154574/?ref_=sr...</td>\n",
       "      <td>2024</td>\n",
       "      <td>1h 36m</td>\n",
       "      <td>NaN</td>\n",
       "      <td>4.7</td>\n",
       "      <td>565</td>\n",
       "    </tr>\n",
       "    <tr>\n",
       "      <th>4</th>\n",
       "      <td>106</td>\n",
       "      <td>107. K.G.F: Chapter 2</td>\n",
       "      <td>https://www.imdb.com/title/tt10698680/?ref_=sr...</td>\n",
       "      <td>2022</td>\n",
       "      <td>2h 46m</td>\n",
       "      <td>Not Rated</td>\n",
       "      <td>8.2</td>\n",
       "      <td>156K</td>\n",
       "    </tr>\n",
       "  </tbody>\n",
       "</table>\n",
       "</div>"
      ],
      "text/plain": [
       "   index                                        Title  \\\n",
       "0    228                        229. Waltair Veerayya   \n",
       "1    520                                 521. Sharper   \n",
       "2    536  537. Lamborghini: The Man Behind the Legend   \n",
       "3    460                                 461. Year 10   \n",
       "4    106                        107. K.G.F: Chapter 2   \n",
       "\n",
       "                                          Movie Link  Year Duration  \\\n",
       "0  https://www.imdb.com/title/tt15281402/?ref_=sr...  2023   2h 35m   \n",
       "1  https://www.imdb.com/title/tt12573454/?ref_=sr...  2023   1h 56m   \n",
       "2  https://www.imdb.com/title/tt5533370/?ref_=sr_...  2022   1h 37m   \n",
       "3  https://www.imdb.com/title/tt21154574/?ref_=sr...  2024   1h 36m   \n",
       "4  https://www.imdb.com/title/tt10698680/?ref_=sr...  2022   2h 46m   \n",
       "\n",
       "         MPA  Rating Votes  \n",
       "0        NaN     6.2  7.9K  \n",
       "1          R     6.7   34K  \n",
       "2          R     5.5   15K  \n",
       "3        NaN     4.7   565  \n",
       "4  Not Rated     8.2  156K  "
      ]
     },
     "execution_count": 7,
     "metadata": {},
     "output_type": "execute_result"
    }
   ],
   "source": [
    "print(len(data))\n",
    "data= data.sample(frac=1).reset_index()\n",
    "data.head()"
   ]
  },
  {
   "cell_type": "code",
   "execution_count": null,
   "metadata": {},
   "outputs": [],
   "source": [
    "# data.to_csv('movie_data.csv')"
   ]
  },
  {
   "cell_type": "code",
   "execution_count": 43,
   "metadata": {},
   "outputs": [],
   "source": [
    "data = pd.read_csv('movie_data.csv')"
   ]
  },
  {
   "cell_type": "code",
   "execution_count": 44,
   "metadata": {},
   "outputs": [
    {
     "data": {
      "text/html": [
       "<div>\n",
       "<style scoped>\n",
       "    .dataframe tbody tr th:only-of-type {\n",
       "        vertical-align: middle;\n",
       "    }\n",
       "\n",
       "    .dataframe tbody tr th {\n",
       "        vertical-align: top;\n",
       "    }\n",
       "\n",
       "    .dataframe thead th {\n",
       "        text-align: right;\n",
       "    }\n",
       "</style>\n",
       "<table border=\"1\" class=\"dataframe\">\n",
       "  <thead>\n",
       "    <tr style=\"text-align: right;\">\n",
       "      <th></th>\n",
       "      <th>Unnamed: 0</th>\n",
       "      <th>index</th>\n",
       "      <th>Title</th>\n",
       "      <th>Movie Link</th>\n",
       "      <th>Year</th>\n",
       "      <th>Duration</th>\n",
       "      <th>MPA</th>\n",
       "      <th>Rating</th>\n",
       "      <th>Votes</th>\n",
       "    </tr>\n",
       "  </thead>\n",
       "  <tbody>\n",
       "    <tr>\n",
       "      <th>0</th>\n",
       "      <td>0</td>\n",
       "      <td>228</td>\n",
       "      <td>229. Waltair Veerayya</td>\n",
       "      <td>https://www.imdb.com/title/tt15281402/?ref_=sr...</td>\n",
       "      <td>2023</td>\n",
       "      <td>2h 35m</td>\n",
       "      <td>NaN</td>\n",
       "      <td>6.2</td>\n",
       "      <td>7.9K</td>\n",
       "    </tr>\n",
       "    <tr>\n",
       "      <th>1</th>\n",
       "      <td>1</td>\n",
       "      <td>520</td>\n",
       "      <td>521. Sharper</td>\n",
       "      <td>https://www.imdb.com/title/tt12573454/?ref_=sr...</td>\n",
       "      <td>2023</td>\n",
       "      <td>1h 56m</td>\n",
       "      <td>R</td>\n",
       "      <td>6.7</td>\n",
       "      <td>34K</td>\n",
       "    </tr>\n",
       "    <tr>\n",
       "      <th>2</th>\n",
       "      <td>2</td>\n",
       "      <td>536</td>\n",
       "      <td>537. Lamborghini: The Man Behind the Legend</td>\n",
       "      <td>https://www.imdb.com/title/tt5533370/?ref_=sr_...</td>\n",
       "      <td>2022</td>\n",
       "      <td>1h 37m</td>\n",
       "      <td>R</td>\n",
       "      <td>5.5</td>\n",
       "      <td>15K</td>\n",
       "    </tr>\n",
       "    <tr>\n",
       "      <th>3</th>\n",
       "      <td>3</td>\n",
       "      <td>460</td>\n",
       "      <td>461. Year 10</td>\n",
       "      <td>https://www.imdb.com/title/tt21154574/?ref_=sr...</td>\n",
       "      <td>2024</td>\n",
       "      <td>1h 36m</td>\n",
       "      <td>NaN</td>\n",
       "      <td>4.7</td>\n",
       "      <td>565</td>\n",
       "    </tr>\n",
       "    <tr>\n",
       "      <th>4</th>\n",
       "      <td>4</td>\n",
       "      <td>106</td>\n",
       "      <td>107. K.G.F: Chapter 2</td>\n",
       "      <td>https://www.imdb.com/title/tt10698680/?ref_=sr...</td>\n",
       "      <td>2022</td>\n",
       "      <td>2h 46m</td>\n",
       "      <td>Not Rated</td>\n",
       "      <td>8.2</td>\n",
       "      <td>156K</td>\n",
       "    </tr>\n",
       "  </tbody>\n",
       "</table>\n",
       "</div>"
      ],
      "text/plain": [
       "   Unnamed: 0  index                                        Title  \\\n",
       "0           0    228                        229. Waltair Veerayya   \n",
       "1           1    520                                 521. Sharper   \n",
       "2           2    536  537. Lamborghini: The Man Behind the Legend   \n",
       "3           3    460                                 461. Year 10   \n",
       "4           4    106                        107. K.G.F: Chapter 2   \n",
       "\n",
       "                                          Movie Link  Year Duration  \\\n",
       "0  https://www.imdb.com/title/tt15281402/?ref_=sr...  2023   2h 35m   \n",
       "1  https://www.imdb.com/title/tt12573454/?ref_=sr...  2023   1h 56m   \n",
       "2  https://www.imdb.com/title/tt5533370/?ref_=sr_...  2022   1h 37m   \n",
       "3  https://www.imdb.com/title/tt21154574/?ref_=sr...  2024   1h 36m   \n",
       "4  https://www.imdb.com/title/tt10698680/?ref_=sr...  2022   2h 46m   \n",
       "\n",
       "         MPA  Rating Votes  \n",
       "0        NaN     6.2  7.9K  \n",
       "1          R     6.7   34K  \n",
       "2          R     5.5   15K  \n",
       "3        NaN     4.7   565  \n",
       "4  Not Rated     8.2  156K  "
      ]
     },
     "execution_count": 44,
     "metadata": {},
     "output_type": "execute_result"
    }
   ],
   "source": [
    "data.head()"
   ]
  },
  {
   "cell_type": "code",
   "execution_count": 45,
   "metadata": {},
   "outputs": [],
   "source": [
    "data.drop([ 'Unnamed: 0'], inplace=True,axis=1)\n"
   ]
  },
  {
   "cell_type": "code",
   "execution_count": 46,
   "metadata": {},
   "outputs": [],
   "source": [
    "def convert_duration(duration):\n",
    "    if isinstance(duration, str) and \"h\" in duration:\n",
    "        parts = duration.split()\n",
    "        hours = int(parts[0][0]) * 60  \n",
    "        minutes = int(parts[1][:-1]) if len(parts) > 1 else 0  \n",
    "        return hours + minutes\n",
    "    return None\n",
    "\n",
    "data['Duration']=data['Duration'].apply(convert_duration)\n"
   ]
  },
  {
   "cell_type": "code",
   "execution_count": 47,
   "metadata": {},
   "outputs": [],
   "source": [
    "def convert_votes(votes):\n",
    "    if isinstance(votes, str):\n",
    "        if \"K\" in votes:\n",
    "            return int(float(votes.replace(\"K\", \"\")) * 1000)\n",
    "        return int(votes.replace(\",\", \"\"))  \n",
    "    return None\n",
    "\n"
   ]
  },
  {
   "cell_type": "code",
   "execution_count": 48,
   "metadata": {},
   "outputs": [],
   "source": [
    "data[\"Votes\"] = data[\"Votes\"].apply(convert_votes)\n"
   ]
  },
  {
   "cell_type": "code",
   "execution_count": 49,
   "metadata": {},
   "outputs": [
    {
     "name": "stdout",
     "output_type": "stream",
     "text": [
      "<class 'pandas.core.frame.DataFrame'>\n",
      "RangeIndex: 2850 entries, 0 to 2849\n",
      "Data columns (total 8 columns):\n",
      " #   Column      Non-Null Count  Dtype  \n",
      "---  ------      --------------  -----  \n",
      " 0   index       2850 non-null   int64  \n",
      " 1   Title       2850 non-null   object \n",
      " 2   Movie Link  2850 non-null   object \n",
      " 3   Year        2850 non-null   int64  \n",
      " 4   Duration    2822 non-null   float64\n",
      " 5   MPA         1949 non-null   object \n",
      " 6   Rating      2837 non-null   float64\n",
      " 7   Votes       2837 non-null   float64\n",
      "dtypes: float64(3), int64(2), object(3)\n",
      "memory usage: 178.2+ KB\n"
     ]
    }
   ],
   "source": [
    "data.info()"
   ]
  },
  {
   "cell_type": "code",
   "execution_count": 50,
   "metadata": {},
   "outputs": [
    {
     "data": {
      "text/plain": [
       "index           0\n",
       "Title           0\n",
       "Movie Link      0\n",
       "Year            0\n",
       "Duration       28\n",
       "MPA           901\n",
       "Rating         13\n",
       "Votes          13\n",
       "dtype: int64"
      ]
     },
     "execution_count": 50,
     "metadata": {},
     "output_type": "execute_result"
    }
   ],
   "source": [
    "data.isna().sum()"
   ]
  },
  {
   "cell_type": "code",
   "execution_count": 51,
   "metadata": {},
   "outputs": [],
   "source": [
    "data[\"Duration\"].fillna(data[\"Duration\"].median(), inplace=True)\n",
    "data[\"Rating\"].fillna(data[\"Rating\"].median(), inplace=True)\n",
    "data[\"Votes\"].fillna(data[\"Votes\"].median(), inplace=True)\n",
    "data[\"MPA\"].fillna(\"Unknown\", inplace=True)"
   ]
  },
  {
   "cell_type": "code",
   "execution_count": 71,
   "metadata": {},
   "outputs": [
    {
     "data": {
      "text/plain": [
       "array(['Unknown', 'R', 'Not Rated', 'TV-MA', 'PG-13', 'PG', 'TV-14',\n",
       "       'Unrated', 'TV-PG', 'TV-G', 'G', '18+', 'TV-Y7-FV', 'TV-Y7', '16+',\n",
       "       'Approved', '13+', 'NC-17', 'TV-Y'], dtype=object)"
      ]
     },
     "execution_count": 71,
     "metadata": {},
     "output_type": "execute_result"
    }
   ],
   "source": [
    "data.MPA.unique()"
   ]
  },
  {
   "cell_type": "code",
   "execution_count": 52,
   "metadata": {},
   "outputs": [
    {
     "data": {
      "text/html": [
       "<div>\n",
       "<style scoped>\n",
       "    .dataframe tbody tr th:only-of-type {\n",
       "        vertical-align: middle;\n",
       "    }\n",
       "\n",
       "    .dataframe tbody tr th {\n",
       "        vertical-align: top;\n",
       "    }\n",
       "\n",
       "    .dataframe thead th {\n",
       "        text-align: right;\n",
       "    }\n",
       "</style>\n",
       "<table border=\"1\" class=\"dataframe\">\n",
       "  <thead>\n",
       "    <tr style=\"text-align: right;\">\n",
       "      <th></th>\n",
       "      <th>index</th>\n",
       "      <th>Title</th>\n",
       "      <th>Movie Link</th>\n",
       "      <th>Year</th>\n",
       "      <th>Duration</th>\n",
       "      <th>MPA</th>\n",
       "      <th>Rating</th>\n",
       "      <th>Votes</th>\n",
       "    </tr>\n",
       "  </thead>\n",
       "  <tbody>\n",
       "    <tr>\n",
       "      <th>0</th>\n",
       "      <td>228</td>\n",
       "      <td>229. Waltair Veerayya</td>\n",
       "      <td>https://www.imdb.com/title/tt15281402/?ref_=sr...</td>\n",
       "      <td>2023</td>\n",
       "      <td>155.0</td>\n",
       "      <td>Unknown</td>\n",
       "      <td>6.2</td>\n",
       "      <td>7900.0</td>\n",
       "    </tr>\n",
       "    <tr>\n",
       "      <th>1</th>\n",
       "      <td>520</td>\n",
       "      <td>521. Sharper</td>\n",
       "      <td>https://www.imdb.com/title/tt12573454/?ref_=sr...</td>\n",
       "      <td>2023</td>\n",
       "      <td>116.0</td>\n",
       "      <td>R</td>\n",
       "      <td>6.7</td>\n",
       "      <td>34000.0</td>\n",
       "    </tr>\n",
       "    <tr>\n",
       "      <th>2</th>\n",
       "      <td>536</td>\n",
       "      <td>537. Lamborghini: The Man Behind the Legend</td>\n",
       "      <td>https://www.imdb.com/title/tt5533370/?ref_=sr_...</td>\n",
       "      <td>2022</td>\n",
       "      <td>97.0</td>\n",
       "      <td>R</td>\n",
       "      <td>5.5</td>\n",
       "      <td>15000.0</td>\n",
       "    </tr>\n",
       "    <tr>\n",
       "      <th>3</th>\n",
       "      <td>460</td>\n",
       "      <td>461. Year 10</td>\n",
       "      <td>https://www.imdb.com/title/tt21154574/?ref_=sr...</td>\n",
       "      <td>2024</td>\n",
       "      <td>96.0</td>\n",
       "      <td>Unknown</td>\n",
       "      <td>4.7</td>\n",
       "      <td>565.0</td>\n",
       "    </tr>\n",
       "    <tr>\n",
       "      <th>4</th>\n",
       "      <td>106</td>\n",
       "      <td>107. K.G.F: Chapter 2</td>\n",
       "      <td>https://www.imdb.com/title/tt10698680/?ref_=sr...</td>\n",
       "      <td>2022</td>\n",
       "      <td>166.0</td>\n",
       "      <td>Not Rated</td>\n",
       "      <td>8.2</td>\n",
       "      <td>156000.0</td>\n",
       "    </tr>\n",
       "  </tbody>\n",
       "</table>\n",
       "</div>"
      ],
      "text/plain": [
       "   index                                        Title  \\\n",
       "0    228                        229. Waltair Veerayya   \n",
       "1    520                                 521. Sharper   \n",
       "2    536  537. Lamborghini: The Man Behind the Legend   \n",
       "3    460                                 461. Year 10   \n",
       "4    106                        107. K.G.F: Chapter 2   \n",
       "\n",
       "                                          Movie Link  Year  Duration  \\\n",
       "0  https://www.imdb.com/title/tt15281402/?ref_=sr...  2023     155.0   \n",
       "1  https://www.imdb.com/title/tt12573454/?ref_=sr...  2023     116.0   \n",
       "2  https://www.imdb.com/title/tt5533370/?ref_=sr_...  2022      97.0   \n",
       "3  https://www.imdb.com/title/tt21154574/?ref_=sr...  2024      96.0   \n",
       "4  https://www.imdb.com/title/tt10698680/?ref_=sr...  2022     166.0   \n",
       "\n",
       "         MPA  Rating     Votes  \n",
       "0    Unknown     6.2    7900.0  \n",
       "1          R     6.7   34000.0  \n",
       "2          R     5.5   15000.0  \n",
       "3    Unknown     4.7     565.0  \n",
       "4  Not Rated     8.2  156000.0  "
      ]
     },
     "execution_count": 52,
     "metadata": {},
     "output_type": "execute_result"
    }
   ],
   "source": [
    "data.head()"
   ]
  },
  {
   "cell_type": "code",
   "execution_count": 54,
   "metadata": {},
   "outputs": [],
   "source": [
    "from sklearn.neighbors import NearestNeighbors\n",
    "from sklearn.preprocessing import MultiLabelBinarizer, OneHotEncoder"
   ]
  },
  {
   "cell_type": "code",
   "execution_count": 58,
   "metadata": {},
   "outputs": [
    {
     "name": "stderr",
     "output_type": "stream",
     "text": [
      "c:\\Users\\mahmo\\anaconda3\\envs\\workDeep\\lib\\site-packages\\sklearn\\preprocessing\\_encoders.py:972: FutureWarning: `sparse` was renamed to `sparse_output` in version 1.2 and will be removed in 1.4. `sparse_output` is ignored unless you leave `sparse` to its default value.\n",
      "  warnings.warn(\n"
     ]
    },
    {
     "data": {
      "text/html": [
       "<style>#sk-container-id-2 {color: black;}#sk-container-id-2 pre{padding: 0;}#sk-container-id-2 div.sk-toggleable {background-color: white;}#sk-container-id-2 label.sk-toggleable__label {cursor: pointer;display: block;width: 100%;margin-bottom: 0;padding: 0.3em;box-sizing: border-box;text-align: center;}#sk-container-id-2 label.sk-toggleable__label-arrow:before {content: \"▸\";float: left;margin-right: 0.25em;color: #696969;}#sk-container-id-2 label.sk-toggleable__label-arrow:hover:before {color: black;}#sk-container-id-2 div.sk-estimator:hover label.sk-toggleable__label-arrow:before {color: black;}#sk-container-id-2 div.sk-toggleable__content {max-height: 0;max-width: 0;overflow: hidden;text-align: left;background-color: #f0f8ff;}#sk-container-id-2 div.sk-toggleable__content pre {margin: 0.2em;color: black;border-radius: 0.25em;background-color: #f0f8ff;}#sk-container-id-2 input.sk-toggleable__control:checked~div.sk-toggleable__content {max-height: 200px;max-width: 100%;overflow: auto;}#sk-container-id-2 input.sk-toggleable__control:checked~label.sk-toggleable__label-arrow:before {content: \"▾\";}#sk-container-id-2 div.sk-estimator input.sk-toggleable__control:checked~label.sk-toggleable__label {background-color: #d4ebff;}#sk-container-id-2 div.sk-label input.sk-toggleable__control:checked~label.sk-toggleable__label {background-color: #d4ebff;}#sk-container-id-2 input.sk-hidden--visually {border: 0;clip: rect(1px 1px 1px 1px);clip: rect(1px, 1px, 1px, 1px);height: 1px;margin: -1px;overflow: hidden;padding: 0;position: absolute;width: 1px;}#sk-container-id-2 div.sk-estimator {font-family: monospace;background-color: #f0f8ff;border: 1px dotted black;border-radius: 0.25em;box-sizing: border-box;margin-bottom: 0.5em;}#sk-container-id-2 div.sk-estimator:hover {background-color: #d4ebff;}#sk-container-id-2 div.sk-parallel-item::after {content: \"\";width: 100%;border-bottom: 1px solid gray;flex-grow: 1;}#sk-container-id-2 div.sk-label:hover label.sk-toggleable__label {background-color: #d4ebff;}#sk-container-id-2 div.sk-serial::before {content: \"\";position: absolute;border-left: 1px solid gray;box-sizing: border-box;top: 0;bottom: 0;left: 50%;z-index: 0;}#sk-container-id-2 div.sk-serial {display: flex;flex-direction: column;align-items: center;background-color: white;padding-right: 0.2em;padding-left: 0.2em;position: relative;}#sk-container-id-2 div.sk-item {position: relative;z-index: 1;}#sk-container-id-2 div.sk-parallel {display: flex;align-items: stretch;justify-content: center;background-color: white;position: relative;}#sk-container-id-2 div.sk-item::before, #sk-container-id-2 div.sk-parallel-item::before {content: \"\";position: absolute;border-left: 1px solid gray;box-sizing: border-box;top: 0;bottom: 0;left: 50%;z-index: -1;}#sk-container-id-2 div.sk-parallel-item {display: flex;flex-direction: column;z-index: 1;position: relative;background-color: white;}#sk-container-id-2 div.sk-parallel-item:first-child::after {align-self: flex-end;width: 50%;}#sk-container-id-2 div.sk-parallel-item:last-child::after {align-self: flex-start;width: 50%;}#sk-container-id-2 div.sk-parallel-item:only-child::after {width: 0;}#sk-container-id-2 div.sk-dashed-wrapped {border: 1px dashed gray;margin: 0 0.4em 0.5em 0.4em;box-sizing: border-box;padding-bottom: 0.4em;background-color: white;}#sk-container-id-2 div.sk-label label {font-family: monospace;font-weight: bold;display: inline-block;line-height: 1.2em;}#sk-container-id-2 div.sk-label-container {text-align: center;}#sk-container-id-2 div.sk-container {/* jupyter's `normalize.less` sets `[hidden] { display: none; }` but bootstrap.min.css set `[hidden] { display: none !important; }` so we also need the `!important` here to be able to override the default hidden behavior on the sphinx rendered scikit-learn.org. See: https://github.com/scikit-learn/scikit-learn/issues/21755 */display: inline-block !important;position: relative;}#sk-container-id-2 div.sk-text-repr-fallback {display: none;}</style><div id=\"sk-container-id-2\" class=\"sk-top-container\"><div class=\"sk-text-repr-fallback\"><pre>NearestNeighbors(metric=&#x27;cosine&#x27;)</pre><b>In a Jupyter environment, please rerun this cell to show the HTML representation or trust the notebook. <br />On GitHub, the HTML representation is unable to render, please try loading this page with nbviewer.org.</b></div><div class=\"sk-container\" hidden><div class=\"sk-item\"><div class=\"sk-estimator sk-toggleable\"><input class=\"sk-toggleable__control sk-hidden--visually\" id=\"sk-estimator-id-2\" type=\"checkbox\" checked><label for=\"sk-estimator-id-2\" class=\"sk-toggleable__label sk-toggleable__label-arrow\">NearestNeighbors</label><div class=\"sk-toggleable__content\"><pre>NearestNeighbors(metric=&#x27;cosine&#x27;)</pre></div></div></div></div></div>"
      ],
      "text/plain": [
       "NearestNeighbors(metric='cosine')"
      ]
     },
     "execution_count": 58,
     "metadata": {},
     "output_type": "execute_result"
    }
   ],
   "source": [
    "encoder = OneHotEncoder(sparse=False)\n",
    "MPA_encoded = encoder.fit_transform(data[[\"MPA\"]])\n",
    "year_reshaped = data['Year'].values.reshape(-1, 1)\n",
    "duration_reshaped = data['Duration'].values.reshape(-1, 1)\n",
    "rating_reshaped = data['Rating'].values.reshape(-1, 1)\n",
    "X = np.hstack([year_reshaped, duration_reshaped, MPA_encoded, rating_reshaped])\n",
    "\n",
    "knn = NearestNeighbors(n_neighbors=5, metric='cosine')\n",
    "knn.fit(X)"
   ]
  },
  {
   "cell_type": "code",
   "execution_count": 70,
   "metadata": {},
   "outputs": [
    {
     "data": {
      "text/plain": [
       "['encoder.pkl']"
      ]
     },
     "execution_count": 70,
     "metadata": {},
     "output_type": "execute_result"
    }
   ],
   "source": [
    "import joblib\n",
    "joblib.dump(knn,'knn.pkl')\n",
    "joblib.dump(encoder,'encoder.pkl')"
   ]
  },
  {
   "cell_type": "code",
   "execution_count": 59,
   "metadata": {},
   "outputs": [],
   "source": [
    "q={\n",
    "    'Year':2020,\n",
    "    'Duration':150,\n",
    "    'MPA':'R',\n",
    "    'Rating':8.5\n",
    "}"
   ]
  },
  {
   "cell_type": "code",
   "execution_count": null,
   "metadata": {},
   "outputs": [],
   "source": [
    "\n",
    "def get_similar_items(q, data, knn, encoder):\n",
    "    q_mpa_encoded = encoder.transform([[q['MPA']]])\n",
    "    \n",
    "    q_year = np.array([[q['Year']]])\n",
    "    q_duration = np.array([[q['Duration']]])\n",
    "    q_rating = np.array([[q['Rating']]])\n",
    "    \n",
    "    q_vector = np.hstack([q_year, q_duration, q_mpa_encoded, q_rating])\n",
    "    \n",
    "    distances, indices = knn.kneighbors(q_vector)\n",
    "    \n",
    "    similar_items = data.iloc[indices[0]].to_dict(orient='records')\n",
    "    return similar_items\n",
    "   \n",
    "\n"
   ]
  },
  {
   "cell_type": "code",
   "execution_count": 66,
   "metadata": {},
   "outputs": [
    {
     "name": "stderr",
     "output_type": "stream",
     "text": [
      "c:\\Users\\mahmo\\anaconda3\\envs\\workDeep\\lib\\site-packages\\sklearn\\base.py:464: UserWarning: X does not have valid feature names, but OneHotEncoder was fitted with feature names\n",
      "  warnings.warn(\n"
     ]
    }
   ],
   "source": [
    "similar_items = get_similar_items(q, data, knn, encoder)\n"
   ]
  },
  {
   "cell_type": "code",
   "execution_count": 68,
   "metadata": {},
   "outputs": [
    {
     "data": {
      "text/plain": [
       "{'index': 123,\n",
       " 'Title': '124. Anatomy of a Fall',\n",
       " 'Movie Link': 'https://www.imdb.com/title/tt17009710/?ref_=sr_t_124',\n",
       " 'Year': 2023,\n",
       " 'Duration': 151.0,\n",
       " 'MPA': 'R',\n",
       " 'Rating': 7.7,\n",
       " 'Votes': 163000.0}"
      ]
     },
     "execution_count": 68,
     "metadata": {},
     "output_type": "execute_result"
    }
   ],
   "source": [
    "similar_items[0]"
   ]
  },
  {
   "cell_type": "code",
   "execution_count": 69,
   "metadata": {},
   "outputs": [
    {
     "data": {
      "text/plain": [
       "{'index': 151,\n",
       " 'Title': '152. Coldplay Music of The Spheres Live Broadcast from Buenos Aires',\n",
       " 'Movie Link': 'https://www.imdb.com/title/tt23016388/?ref_=sr_t_152',\n",
       " 'Year': 2022,\n",
       " 'Duration': 150.0,\n",
       " 'MPA': 'Unknown',\n",
       " 'Rating': 8.4,\n",
       " 'Votes': 93.0}"
      ]
     },
     "execution_count": 69,
     "metadata": {},
     "output_type": "execute_result"
    }
   ],
   "source": [
    "similar_items[1]"
   ]
  },
  {
   "cell_type": "code",
   "execution_count": null,
   "metadata": {},
   "outputs": [],
   "source": []
  }
 ],
 "metadata": {
  "kernelspec": {
   "display_name": "workDeep",
   "language": "python",
   "name": "python3"
  },
  "language_info": {
   "codemirror_mode": {
    "name": "ipython",
    "version": 3
   },
   "file_extension": ".py",
   "mimetype": "text/x-python",
   "name": "python",
   "nbconvert_exporter": "python",
   "pygments_lexer": "ipython3",
   "version": "3.9.17"
  }
 },
 "nbformat": 4,
 "nbformat_minor": 2
}
